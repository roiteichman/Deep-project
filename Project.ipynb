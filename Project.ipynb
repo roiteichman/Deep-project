{
 "cells": [
  {
   "cell_type": "code",
   "execution_count": 1,
   "id": "959d1fea-d41b-4a03-9cb0-4474270bc1af",
   "metadata": {},
   "outputs": [],
   "source": [
    "import torch\n",
    "from AutoDecoder import AutoDecoder\n",
    "from utils import create_dataloaders, plot_tsne, tensors_as_images\n",
    "from evaluate import evaluate_model\n",
    "import matplotlib.pyplot as plt\n",
    "import os"
   ]
  },
  {
   "cell_type": "code",
   "execution_count": 8,
   "id": "cea0c257",
   "metadata": {},
   "outputs": [
    {
     "data": {
      "text/plain": [
       "<torch._C.Generator at 0x27d05685c10>"
      ]
     },
     "execution_count": 8,
     "metadata": {},
     "output_type": "execute_result"
    }
   ],
   "source": [
    "torch.random.manual_seed(42)"
   ]
  },
  {
   "cell_type": "code",
   "execution_count": 9,
   "id": "3e7e83f2",
   "metadata": {},
   "outputs": [],
   "source": [
    "# Parameters\n",
    "latent_dim = 128  # Increase latent dimension to 128\n",
    "batch_size = 64\n",
    "epochs = 20\n",
    "learning_rate = 0.0005"
   ]
  },
  {
   "cell_type": "code",
   "execution_count": 10,
   "id": "bc7de738",
   "metadata": {},
   "outputs": [
    {
     "name": "stdout",
     "output_type": "stream",
     "text": [
      "Training dataset size: 1000\n",
      "Test dataset size: 1000\n",
      "Number of batches in training DataLoader: 16\n",
      "Number of batches in test DataLoader: 16\n"
     ]
    }
   ],
   "source": [
    "# Load the dataset (train and test splits are handled in the function)\n",
    "train_ds, train_dl, test_ds, test_dl = create_dataloaders(data_path='dataset', batch_size=batch_size, shuffle=True, num_workers=2)\n",
    "\n",
    "# Debugging: Check if the datasets are loaded properly\n",
    "print(f\"Training dataset size: {len(train_ds)}\")\n",
    "print(f\"Test dataset size: {len(test_ds)}\")\n",
    "print(f\"Number of batches in training DataLoader: {len(train_dl)}\")\n",
    "print(f\"Number of batches in test DataLoader: {len(test_dl)}\")"
   ]
  },
  {
   "cell_type": "code",
   "execution_count": 11,
   "id": "9e45fc83",
   "metadata": {},
   "outputs": [
    {
     "data": {
      "image/png": "[encoded data removed]",
      "text/plain": [
       "<Figure size 640x480 with 4 Axes>"
      ]
     },
     "metadata": {},
     "output_type": "display_data"
    },
    {
     "name": "stdout",
     "output_type": "stream",
     "text": [
      "Image size: torch.Size([28, 28])\n"
     ]
    }
   ],
   "source": [
    "#explore the training dataset\n",
    "plt.figure(1)\n",
    "num_samples = 4\n",
    "for i in range(num_samples):\n",
    "    plt.subplot(221+i)\n",
    "    plt.imshow(train_ds[i][1], cmap='gray')\n",
    "plt.show()\n",
    "\n",
    "#lets see the size of the images\n",
    "print(f\"Image size: {train_ds[0][1].shape}\")"
   ]
  },
  {
   "cell_type": "code",
   "execution_count": 16,
   "id": "ae68e48f",
   "metadata": {},
   "outputs": [
    {
     "name": "stdout",
     "output_type": "stream",
     "text": [
      "Min pixel value: 0\n",
      "Max pixel value: 255\n"
     ]
    }
   ],
   "source": [
    "#lets have a look at the values of the pixels of the images\n",
    "print(f\"Min pixel value: {train_ds[0][1].min()}\")\n",
    "print(f\"Max pixel value: {train_ds[0][1].max()}\")\n"
   ]
  },
  {
   "cell_type": "code",
   "execution_count": 6,
   "id": "00ac1a03",
   "metadata": {},
   "outputs": [
    {
     "name": "stdout",
     "output_type": "stream",
     "text": [
      "Epoch 1/100\n",
      "Epoch [1/100], Loss: 0.5308\n",
      "Epoch 2/100\n",
      "Epoch [2/100], Loss: 0.4144\n",
      "Epoch 3/100\n",
      "Epoch [3/100], Loss: 0.3648\n",
      "Epoch 4/100\n",
      "Epoch [4/100], Loss: 0.3284\n",
      "Epoch 5/100\n",
      "Epoch [5/100], Loss: 0.2913\n",
      "Epoch 6/100\n",
      "Epoch [6/100], Loss: 0.2566\n",
      "Epoch 7/100\n",
      "Epoch [7/100], Loss: 0.2300\n",
      "Epoch 8/100\n",
      "Epoch [8/100], Loss: 0.2072\n",
      "Epoch 9/100\n",
      "Epoch [9/100], Loss: 0.1863\n",
      "Epoch 10/100\n",
      "Epoch [10/100], Loss: 0.1707\n",
      "Epoch 11/100\n",
      "Epoch [11/100], Loss: 0.1615\n",
      "Epoch 12/100\n",
      "Epoch [12/100], Loss: 0.1535\n",
      "Epoch 13/100\n",
      "Epoch [13/100], Loss: 0.1452\n",
      "Epoch 14/100\n",
      "Epoch [14/100], Loss: 0.1398\n",
      "Epoch 15/100\n",
      "Epoch [15/100], Loss: 0.1406\n",
      "Epoch 16/100\n",
      "Epoch [16/100], Loss: 0.1445\n",
      "Epoch 17/100\n",
      "Epoch [17/100], Loss: 0.1435\n",
      "Epoch 18/100\n",
      "Epoch [18/100], Loss: 0.1304\n",
      "Epoch 19/100\n",
      "Epoch [19/100], Loss: 0.1217\n",
      "Epoch 20/100\n",
      "Epoch [20/100], Loss: 0.1180\n",
      "Epoch 21/100\n",
      "Epoch [21/100], Loss: 0.1163\n",
      "Epoch 22/100\n",
      "Epoch [22/100], Loss: 0.1158\n",
      "Epoch 23/100\n",
      "Epoch [23/100], Loss: 0.1108\n",
      "Epoch 24/100\n",
      "Epoch [24/100], Loss: 0.1069\n",
      "Epoch 25/100\n",
      "Epoch [25/100], Loss: 0.1104\n",
      "Epoch 26/100\n",
      "Epoch [26/100], Loss: 0.1081\n",
      "Epoch 27/100\n",
      "Epoch [27/100], Loss: 0.0988\n",
      "Epoch 28/100\n",
      "Epoch [28/100], Loss: 0.0901\n",
      "Epoch 29/100\n",
      "Epoch [29/100], Loss: 0.0895\n",
      "Epoch 30/100\n",
      "Epoch [30/100], Loss: 0.0879\n",
      "Epoch 31/100\n",
      "Epoch [31/100], Loss: 0.0863\n",
      "Epoch 32/100\n",
      "Epoch [32/100], Loss: 0.0825\n",
      "Epoch 33/100\n",
      "Epoch [33/100], Loss: 0.0848\n",
      "Epoch 34/100\n",
      "Epoch [34/100], Loss: 0.0874\n",
      "Epoch 35/100\n",
      "Epoch [35/100], Loss: 0.0830\n",
      "Epoch 36/100\n",
      "Epoch [36/100], Loss: 0.0798\n",
      "Epoch 37/100\n",
      "Epoch [37/100], Loss: 0.0773\n",
      "Epoch 38/100\n",
      "Epoch [38/100], Loss: 0.0745\n",
      "Epoch 39/100\n",
      "Epoch [39/100], Loss: 0.0746\n",
      "Epoch 40/100\n",
      "Epoch [40/100], Loss: 0.0766\n",
      "Epoch 41/100\n",
      "Epoch [41/100], Loss: 0.0775\n",
      "Epoch 42/100\n",
      "Epoch [42/100], Loss: 0.0774\n",
      "Epoch 43/100\n",
      "Epoch [43/100], Loss: 0.0739\n",
      "Epoch 44/100\n",
      "Epoch [44/100], Loss: 0.0695\n",
      "Epoch 45/100\n",
      "Epoch [45/100], Loss: 0.0684\n",
      "Epoch 46/100\n",
      "Epoch [46/100], Loss: 0.0695\n",
      "Epoch 47/100\n",
      "Epoch [47/100], Loss: 0.0735\n",
      "Epoch 48/100\n",
      "Epoch [48/100], Loss: 0.0733\n",
      "Epoch 49/100\n",
      "Epoch [49/100], Loss: 0.0722\n",
      "Epoch 50/100\n",
      "Epoch [50/100], Loss: 0.0706\n",
      "Epoch 51/100\n",
      "Epoch [51/100], Loss: 0.0688\n",
      "Epoch 52/100\n",
      "Epoch [52/100], Loss: 0.0658\n",
      "Epoch 53/100\n",
      "Epoch [53/100], Loss: 0.0641\n",
      "Epoch 54/100\n",
      "Epoch [54/100], Loss: 0.0625\n",
      "Epoch 55/100\n",
      "Epoch [55/100], Loss: 0.0620\n",
      "Epoch 56/100\n",
      "Epoch [56/100], Loss: 0.0598\n",
      "Epoch 57/100\n",
      "Epoch [57/100], Loss: 0.0588\n",
      "Epoch 58/100\n",
      "Epoch [58/100], Loss: 0.0608\n",
      "Epoch 59/100\n",
      "Epoch [59/100], Loss: 0.0625\n",
      "Epoch 60/100\n",
      "Epoch [60/100], Loss: 0.0627\n",
      "Epoch 61/100\n",
      "Epoch [61/100], Loss: 0.0626\n",
      "Epoch 62/100\n",
      "Epoch [62/100], Loss: 0.0595\n",
      "Epoch 63/100\n",
      "Epoch [63/100], Loss: 0.0586\n",
      "Epoch 64/100\n",
      "Epoch [64/100], Loss: 0.0575\n",
      "Epoch 65/100\n",
      "Epoch [65/100], Loss: 0.0576\n",
      "Epoch 66/100\n",
      "Epoch [66/100], Loss: 0.0569\n",
      "Epoch 67/100\n",
      "Epoch [67/100], Loss: 0.0591\n",
      "Epoch 68/100\n",
      "Epoch [68/100], Loss: 0.0600\n",
      "Epoch 69/100\n",
      "Epoch [69/100], Loss: 0.0596\n",
      "Epoch 70/100\n",
      "Epoch [70/100], Loss: 0.0562\n",
      "Epoch 71/100\n",
      "Epoch [71/100], Loss: 0.0539\n",
      "Epoch 72/100\n",
      "Epoch [72/100], Loss: 0.0544\n",
      "Epoch 73/100\n",
      "Epoch [73/100], Loss: 0.0545\n",
      "Epoch 74/100\n",
      "Epoch [74/100], Loss: 0.0545\n",
      "Epoch 75/100\n",
      "Epoch [75/100], Loss: 0.0550\n",
      "Epoch 76/100\n",
      "Epoch [76/100], Loss: 0.0546\n",
      "Epoch 77/100\n",
      "Epoch [77/100], Loss: 0.0542\n",
      "Epoch 78/100\n",
      "Epoch [78/100], Loss: 0.0540\n",
      "Epoch 79/100\n",
      "Epoch [79/100], Loss: 0.0540\n",
      "Epoch 80/100\n",
      "Epoch [80/100], Loss: 0.0528\n",
      "Epoch 81/100\n",
      "Epoch [81/100], Loss: 0.0517\n",
      "Epoch 82/100\n",
      "Epoch [82/100], Loss: 0.0489\n",
      "Epoch 83/100\n",
      "Epoch [83/100], Loss: 0.0491\n",
      "Epoch 84/100\n",
      "Epoch [84/100], Loss: 0.0496\n",
      "Epoch 85/100\n",
      "Epoch [85/100], Loss: 0.0489\n",
      "Epoch 86/100\n",
      "Epoch [86/100], Loss: 0.0489\n",
      "Epoch 87/100\n",
      "Epoch [87/100], Loss: 0.0498\n",
      "Epoch 88/100\n",
      "Epoch [88/100], Loss: 0.0497\n",
      "Epoch 89/100\n",
      "Epoch [89/100], Loss: 0.0495\n",
      "Epoch 90/100\n",
      "Epoch [90/100], Loss: 0.0488\n",
      "Epoch 91/100\n",
      "Epoch [91/100], Loss: 0.0496\n",
      "Epoch 92/100\n",
      "Epoch [92/100], Loss: 0.0488\n",
      "Epoch 93/100\n",
      "Epoch [93/100], Loss: 0.0484\n",
      "Epoch 94/100\n",
      "Epoch [94/100], Loss: 0.0498\n",
      "Epoch 95/100\n",
      "Epoch [95/100], Loss: 0.0512\n",
      "Epoch 96/100\n",
      "Epoch [96/100], Loss: 0.0482\n",
      "Epoch 97/100\n",
      "Epoch [97/100], Loss: 0.0470\n",
      "Epoch 98/100\n",
      "Epoch [98/100], Loss: 0.0484\n",
      "Epoch 99/100\n",
      "Epoch [99/100], Loss: 0.0487\n",
      "Epoch 100/100\n",
      "Epoch [100/100], Loss: 0.0493\n",
      "Training Loss: 0.0493\n",
      "Test Loss: 0.1308\n",
      "Training and Evaluation Complete!\n"
     ]
    }
   ],
   "source": [
    "from AutoDecoder import Trainer\n",
    "trainer = Trainer(num_epochs=100)\n",
    "trainer.train_and_evaluate()"
   ]
  },
  {
   "cell_type": "code",
   "execution_count": 8,
   "id": "254ece91",
   "metadata": {},
   "outputs": [
    {
     "name": "stdout",
     "output_type": "stream",
     "text": [
      "Generating t-SNE plot...\n"
     ]
    },
    {
     "ename": "AttributeError",
     "evalue": "'AutoDecoder' object has no attribute 'initial_latents'",
     "output_type": "error",
     "traceback": [
      "\u001b[1;31m---------------------------------------------------------------------------\u001b[0m",
      "\u001b[1;31mAttributeError\u001b[0m                            Traceback (most recent call last)",
      "Cell \u001b[1;32mIn[8], line 1\u001b[0m\n\u001b[1;32m----> 1\u001b[0m \u001b[43mtrainer\u001b[49m\u001b[38;5;241;43m.\u001b[39;49m\u001b[43mplot_tsne\u001b[49m\u001b[43m(\u001b[49m\u001b[43m)\u001b[49m\n",
      "File \u001b[1;32mc:\\Users\\eszna\\OneDrive - Technion\\Wet_HW\\DL_236781\\Deep-project\\AutoDecoder.py:125\u001b[0m, in \u001b[0;36mTrainer.plot_tsne\u001b[1;34m(self)\u001b[0m\n\u001b[0;32m    123\u001b[0m \u001b[38;5;28;01mdef\u001b[39;00m \u001b[38;5;21mplot_tsne\u001b[39m(\u001b[38;5;28mself\u001b[39m):\n\u001b[0;32m    124\u001b[0m     \u001b[38;5;28mprint\u001b[39m(\u001b[38;5;124m\"\u001b[39m\u001b[38;5;124mGenerating t-SNE plot...\u001b[39m\u001b[38;5;124m\"\u001b[39m)\n\u001b[1;32m--> 125\u001b[0m     plot_tsne(\u001b[38;5;28mself\u001b[39m\u001b[38;5;241m.\u001b[39mtest_ds, \u001b[38;5;28;43mself\u001b[39;49m\u001b[38;5;241;43m.\u001b[39;49m\u001b[43mmodel\u001b[49m\u001b[38;5;241;43m.\u001b[39;49m\u001b[43minitial_latents\u001b[49m, file_name\u001b[38;5;241m=\u001b[39m\u001b[38;5;124m'\u001b[39m\u001b[38;5;124mtsne_plot.png\u001b[39m\u001b[38;5;124m'\u001b[39m, plot_title\u001b[38;5;241m=\u001b[39m\u001b[38;5;124m\"\u001b[39m\u001b[38;5;124mt-SNE Visualization of Latents\u001b[39m\u001b[38;5;124m\"\u001b[39m)\n",
      "File \u001b[1;32mc:\\Users\\eszna\\miniconda3\\envs\\deep_project\\lib\\site-packages\\torch\\nn\\modules\\module.py:1729\u001b[0m, in \u001b[0;36mModule.__getattr__\u001b[1;34m(self, name)\u001b[0m\n\u001b[0;32m   1727\u001b[0m     \u001b[38;5;28;01mif\u001b[39;00m name \u001b[38;5;129;01min\u001b[39;00m modules:\n\u001b[0;32m   1728\u001b[0m         \u001b[38;5;28;01mreturn\u001b[39;00m modules[name]\n\u001b[1;32m-> 1729\u001b[0m \u001b[38;5;28;01mraise\u001b[39;00m \u001b[38;5;167;01mAttributeError\u001b[39;00m(\u001b[38;5;124mf\u001b[39m\u001b[38;5;124m\"\u001b[39m\u001b[38;5;124m'\u001b[39m\u001b[38;5;132;01m{\u001b[39;00m\u001b[38;5;28mtype\u001b[39m(\u001b[38;5;28mself\u001b[39m)\u001b[38;5;241m.\u001b[39m\u001b[38;5;18m__name__\u001b[39m\u001b[38;5;132;01m}\u001b[39;00m\u001b[38;5;124m'\u001b[39m\u001b[38;5;124m object has no attribute \u001b[39m\u001b[38;5;124m'\u001b[39m\u001b[38;5;132;01m{\u001b[39;00mname\u001b[38;5;132;01m}\u001b[39;00m\u001b[38;5;124m'\u001b[39m\u001b[38;5;124m\"\u001b[39m)\n",
      "\u001b[1;31mAttributeError\u001b[0m: 'AutoDecoder' object has no attribute 'initial_latents'"
     ]
    }
   ],
   "source": [
    "trainer.plot_tsne()"
   ]
  },
  {
   "cell_type": "code",
   "execution_count": 1,
   "id": "d9f9afd1",
   "metadata": {},
   "outputs": [
    {
     "name": "stderr",
     "output_type": "stream",
     "text": [
      "c:\\Users\\eszna\\miniconda3\\envs\\deep_project\\lib\\site-packages\\torch\\cuda\\__init__.py:128: UserWarning: CUDA initialization: The NVIDIA driver on your system is too old (found version 11070). Please update your GPU driver by downloading and installing a new version from the URL: http://www.nvidia.com/Download/index.aspx Alternatively, go to: https://pytorch.org to install a PyTorch version that has been compiled with your version of the CUDA driver. (Triggered internally at C:\\cb\\pytorch_1000000000000\\work\\c10\\cuda\\CUDAFunctions.cpp:108.)\n",
      "  return torch._C._cuda_getDeviceCount() > 0\n"
     ]
    },
    {
     "name": "stdout",
     "output_type": "stream",
     "text": [
      "\n",
      "Epoch: 1\n"
     ]
    },
    {
     "ename": "RuntimeError",
     "evalue": "mat1 and mat2 shapes cannot be multiplied (1792x28 and 256x64)",
     "output_type": "error",
     "traceback": [
      "\u001b[1;31m---------------------------------------------------------------------------\u001b[0m",
      "\u001b[1;31mRuntimeError\u001b[0m                              Traceback (most recent call last)",
      "Cell \u001b[1;32mIn[1], line 2\u001b[0m\n\u001b[0;32m      1\u001b[0m \u001b[38;5;28;01mfrom\u001b[39;00m \u001b[38;5;21;01mVariationalAutoDecoder\u001b[39;00m \u001b[38;5;28;01mimport\u001b[39;00m main\n\u001b[1;32m----> 2\u001b[0m \u001b[43mmain\u001b[49m\u001b[43m(\u001b[49m\u001b[43m)\u001b[49m\n",
      "File \u001b[1;32mc:\\Users\\eszna\\OneDrive - Technion\\Wet_HW\\DL_236781\\Deep-project\\VariationalAutoDecoder.py:125\u001b[0m, in \u001b[0;36mmain\u001b[1;34m()\u001b[0m\n\u001b[0;32m    123\u001b[0m model \u001b[38;5;241m=\u001b[39m VariationalAutoDecoder()\n\u001b[0;32m    124\u001b[0m model\u001b[38;5;241m.\u001b[39minit_model()\n\u001b[1;32m--> 125\u001b[0m train_loss \u001b[38;5;241m=\u001b[39m \u001b[43mmodel\u001b[49m\u001b[38;5;241;43m.\u001b[39;49m\u001b[43mfit_train\u001b[49m\u001b[43m(\u001b[49m\u001b[43mnum_epochs\u001b[49m\u001b[38;5;241;43m=\u001b[39;49m\u001b[38;5;241;43m10\u001b[39;49m\u001b[43m)\u001b[49m\n\u001b[0;32m    126\u001b[0m test_loss \u001b[38;5;241m=\u001b[39m model\u001b[38;5;241m.\u001b[39mtest(num_epochs\u001b[38;5;241m=\u001b[39m\u001b[38;5;241m10\u001b[39m)\n\u001b[0;32m    127\u001b[0m \u001b[38;5;28mprint\u001b[39m(\u001b[38;5;124mf\u001b[39m\u001b[38;5;124m\"\u001b[39m\u001b[38;5;124mTrain Loss: \u001b[39m\u001b[38;5;132;01m{\u001b[39;00mtrain_loss\u001b[38;5;132;01m:\u001b[39;00m\u001b[38;5;124m.4f\u001b[39m\u001b[38;5;132;01m}\u001b[39;00m\u001b[38;5;124m, Test Loss: \u001b[39m\u001b[38;5;132;01m{\u001b[39;00mtest_loss\u001b[38;5;132;01m:\u001b[39;00m\u001b[38;5;124m.4f\u001b[39m\u001b[38;5;132;01m}\u001b[39;00m\u001b[38;5;124m\"\u001b[39m)\n",
      "File \u001b[1;32mc:\\Users\\eszna\\OneDrive - Technion\\Wet_HW\\DL_236781\\Deep-project\\VariationalAutoDecoder.py:67\u001b[0m, in \u001b[0;36mVariationalAutoDecoder.fit_train\u001b[1;34m(self, num_epochs)\u001b[0m\n\u001b[0;32m     65\u001b[0m data \u001b[38;5;241m=\u001b[39m data\u001b[38;5;241m.\u001b[39mfloat()\u001b[38;5;241m.\u001b[39mto(\u001b[38;5;28mself\u001b[39m\u001b[38;5;241m.\u001b[39mdevice)\n\u001b[0;32m     66\u001b[0m \u001b[38;5;28mself\u001b[39m\u001b[38;5;241m.\u001b[39moptimizer\u001b[38;5;241m.\u001b[39mzero_grad()\n\u001b[1;32m---> 67\u001b[0m recon_batch, mu, logvar \u001b[38;5;241m=\u001b[39m \u001b[38;5;28;43mself\u001b[39;49m\u001b[43m(\u001b[49m\u001b[43mdata\u001b[49m\u001b[43m)\u001b[49m\n\u001b[0;32m     69\u001b[0m loss \u001b[38;5;241m=\u001b[39m \u001b[38;5;28mself\u001b[39m\u001b[38;5;241m.\u001b[39mloss_function(recon_batch, data, mu, logvar)\n\u001b[0;32m     70\u001b[0m loss\u001b[38;5;241m.\u001b[39mbackward()\n",
      "File \u001b[1;32mc:\\Users\\eszna\\miniconda3\\envs\\deep_project\\lib\\site-packages\\torch\\nn\\modules\\module.py:1553\u001b[0m, in \u001b[0;36mModule._wrapped_call_impl\u001b[1;34m(self, *args, **kwargs)\u001b[0m\n\u001b[0;32m   1551\u001b[0m     \u001b[38;5;28;01mreturn\u001b[39;00m \u001b[38;5;28mself\u001b[39m\u001b[38;5;241m.\u001b[39m_compiled_call_impl(\u001b[38;5;241m*\u001b[39margs, \u001b[38;5;241m*\u001b[39m\u001b[38;5;241m*\u001b[39mkwargs)  \u001b[38;5;66;03m# type: ignore[misc]\u001b[39;00m\n\u001b[0;32m   1552\u001b[0m \u001b[38;5;28;01melse\u001b[39;00m:\n\u001b[1;32m-> 1553\u001b[0m     \u001b[38;5;28;01mreturn\u001b[39;00m \u001b[38;5;28mself\u001b[39m\u001b[38;5;241m.\u001b[39m_call_impl(\u001b[38;5;241m*\u001b[39margs, \u001b[38;5;241m*\u001b[39m\u001b[38;5;241m*\u001b[39mkwargs)\n",
      "File \u001b[1;32mc:\\Users\\eszna\\miniconda3\\envs\\deep_project\\lib\\site-packages\\torch\\nn\\modules\\module.py:1562\u001b[0m, in \u001b[0;36mModule._call_impl\u001b[1;34m(self, *args, **kwargs)\u001b[0m\n\u001b[0;32m   1557\u001b[0m \u001b[38;5;66;03m# If we don't have any hooks, we want to skip the rest of the logic in\u001b[39;00m\n\u001b[0;32m   1558\u001b[0m \u001b[38;5;66;03m# this function, and just call forward.\u001b[39;00m\n\u001b[0;32m   1559\u001b[0m \u001b[38;5;28;01mif\u001b[39;00m \u001b[38;5;129;01mnot\u001b[39;00m (\u001b[38;5;28mself\u001b[39m\u001b[38;5;241m.\u001b[39m_backward_hooks \u001b[38;5;129;01mor\u001b[39;00m \u001b[38;5;28mself\u001b[39m\u001b[38;5;241m.\u001b[39m_backward_pre_hooks \u001b[38;5;129;01mor\u001b[39;00m \u001b[38;5;28mself\u001b[39m\u001b[38;5;241m.\u001b[39m_forward_hooks \u001b[38;5;129;01mor\u001b[39;00m \u001b[38;5;28mself\u001b[39m\u001b[38;5;241m.\u001b[39m_forward_pre_hooks\n\u001b[0;32m   1560\u001b[0m         \u001b[38;5;129;01mor\u001b[39;00m _global_backward_pre_hooks \u001b[38;5;129;01mor\u001b[39;00m _global_backward_hooks\n\u001b[0;32m   1561\u001b[0m         \u001b[38;5;129;01mor\u001b[39;00m _global_forward_hooks \u001b[38;5;129;01mor\u001b[39;00m _global_forward_pre_hooks):\n\u001b[1;32m-> 1562\u001b[0m     \u001b[38;5;28;01mreturn\u001b[39;00m forward_call(\u001b[38;5;241m*\u001b[39margs, \u001b[38;5;241m*\u001b[39m\u001b[38;5;241m*\u001b[39mkwargs)\n\u001b[0;32m   1564\u001b[0m \u001b[38;5;28;01mtry\u001b[39;00m:\n\u001b[0;32m   1565\u001b[0m     result \u001b[38;5;241m=\u001b[39m \u001b[38;5;28;01mNone\u001b[39;00m\n",
      "File \u001b[1;32mc:\\Users\\eszna\\OneDrive - Technion\\Wet_HW\\DL_236781\\Deep-project\\VariationalAutoDecoder.py:41\u001b[0m, in \u001b[0;36mVariationalAutoDecoder.forward\u001b[1;34m(self, x)\u001b[0m\n\u001b[0;32m     39\u001b[0m \u001b[38;5;28;01mdef\u001b[39;00m \u001b[38;5;21mforward\u001b[39m(\u001b[38;5;28mself\u001b[39m, x):\n\u001b[0;32m     40\u001b[0m     \u001b[38;5;66;03m# Bottle-neck\u001b[39;00m\n\u001b[1;32m---> 41\u001b[0m     z, mu, logvar \u001b[38;5;241m=\u001b[39m \u001b[38;5;28;43mself\u001b[39;49m\u001b[38;5;241;43m.\u001b[39;49m\u001b[43m_bottleneck\u001b[49m\u001b[43m(\u001b[49m\u001b[43mx\u001b[49m\u001b[43m)\u001b[49m\n\u001b[0;32m     42\u001b[0m     \u001b[38;5;66;03m# decoder\u001b[39;00m\n\u001b[0;32m     43\u001b[0m     z \u001b[38;5;241m=\u001b[39m \u001b[38;5;28mself\u001b[39m\u001b[38;5;241m.\u001b[39mfc3(z)\n",
      "File \u001b[1;32mc:\\Users\\eszna\\OneDrive - Technion\\Wet_HW\\DL_236781\\Deep-project\\VariationalAutoDecoder.py:28\u001b[0m, in \u001b[0;36mVariationalAutoDecoder._bottleneck\u001b[1;34m(self, h)\u001b[0m\n\u001b[0;32m     27\u001b[0m \u001b[38;5;28;01mdef\u001b[39;00m \u001b[38;5;21m_bottleneck\u001b[39m(\u001b[38;5;28mself\u001b[39m, h):\n\u001b[1;32m---> 28\u001b[0m     mu, logvar \u001b[38;5;241m=\u001b[39m \u001b[38;5;28;43mself\u001b[39;49m\u001b[38;5;241;43m.\u001b[39;49m\u001b[43mfc1\u001b[49m\u001b[43m(\u001b[49m\u001b[43mh\u001b[49m\u001b[43m)\u001b[49m, \u001b[38;5;28mself\u001b[39m\u001b[38;5;241m.\u001b[39mfc2(h)\n\u001b[0;32m     29\u001b[0m     z \u001b[38;5;241m=\u001b[39m \u001b[38;5;28mself\u001b[39m\u001b[38;5;241m.\u001b[39m_reparameterize(mu, logvar)\n\u001b[0;32m     30\u001b[0m     \u001b[38;5;28;01mreturn\u001b[39;00m z, mu, logvar\n",
      "File \u001b[1;32mc:\\Users\\eszna\\miniconda3\\envs\\deep_project\\lib\\site-packages\\torch\\nn\\modules\\module.py:1553\u001b[0m, in \u001b[0;36mModule._wrapped_call_impl\u001b[1;34m(self, *args, **kwargs)\u001b[0m\n\u001b[0;32m   1551\u001b[0m     \u001b[38;5;28;01mreturn\u001b[39;00m \u001b[38;5;28mself\u001b[39m\u001b[38;5;241m.\u001b[39m_compiled_call_impl(\u001b[38;5;241m*\u001b[39margs, \u001b[38;5;241m*\u001b[39m\u001b[38;5;241m*\u001b[39mkwargs)  \u001b[38;5;66;03m# type: ignore[misc]\u001b[39;00m\n\u001b[0;32m   1552\u001b[0m \u001b[38;5;28;01melse\u001b[39;00m:\n\u001b[1;32m-> 1553\u001b[0m     \u001b[38;5;28;01mreturn\u001b[39;00m \u001b[38;5;28mself\u001b[39m\u001b[38;5;241m.\u001b[39m_call_impl(\u001b[38;5;241m*\u001b[39margs, \u001b[38;5;241m*\u001b[39m\u001b[38;5;241m*\u001b[39mkwargs)\n",
      "File \u001b[1;32mc:\\Users\\eszna\\miniconda3\\envs\\deep_project\\lib\\site-packages\\torch\\nn\\modules\\module.py:1562\u001b[0m, in \u001b[0;36mModule._call_impl\u001b[1;34m(self, *args, **kwargs)\u001b[0m\n\u001b[0;32m   1557\u001b[0m \u001b[38;5;66;03m# If we don't have any hooks, we want to skip the rest of the logic in\u001b[39;00m\n\u001b[0;32m   1558\u001b[0m \u001b[38;5;66;03m# this function, and just call forward.\u001b[39;00m\n\u001b[0;32m   1559\u001b[0m \u001b[38;5;28;01mif\u001b[39;00m \u001b[38;5;129;01mnot\u001b[39;00m (\u001b[38;5;28mself\u001b[39m\u001b[38;5;241m.\u001b[39m_backward_hooks \u001b[38;5;129;01mor\u001b[39;00m \u001b[38;5;28mself\u001b[39m\u001b[38;5;241m.\u001b[39m_backward_pre_hooks \u001b[38;5;129;01mor\u001b[39;00m \u001b[38;5;28mself\u001b[39m\u001b[38;5;241m.\u001b[39m_forward_hooks \u001b[38;5;129;01mor\u001b[39;00m \u001b[38;5;28mself\u001b[39m\u001b[38;5;241m.\u001b[39m_forward_pre_hooks\n\u001b[0;32m   1560\u001b[0m         \u001b[38;5;129;01mor\u001b[39;00m _global_backward_pre_hooks \u001b[38;5;129;01mor\u001b[39;00m _global_backward_hooks\n\u001b[0;32m   1561\u001b[0m         \u001b[38;5;129;01mor\u001b[39;00m _global_forward_hooks \u001b[38;5;129;01mor\u001b[39;00m _global_forward_pre_hooks):\n\u001b[1;32m-> 1562\u001b[0m     \u001b[38;5;28;01mreturn\u001b[39;00m forward_call(\u001b[38;5;241m*\u001b[39margs, \u001b[38;5;241m*\u001b[39m\u001b[38;5;241m*\u001b[39mkwargs)\n\u001b[0;32m   1564\u001b[0m \u001b[38;5;28;01mtry\u001b[39;00m:\n\u001b[0;32m   1565\u001b[0m     result \u001b[38;5;241m=\u001b[39m \u001b[38;5;28;01mNone\u001b[39;00m\n",
      "File \u001b[1;32mc:\\Users\\eszna\\miniconda3\\envs\\deep_project\\lib\\site-packages\\torch\\nn\\modules\\linear.py:117\u001b[0m, in \u001b[0;36mLinear.forward\u001b[1;34m(self, input)\u001b[0m\n\u001b[0;32m    116\u001b[0m \u001b[38;5;28;01mdef\u001b[39;00m \u001b[38;5;21mforward\u001b[39m(\u001b[38;5;28mself\u001b[39m, \u001b[38;5;28minput\u001b[39m: Tensor) \u001b[38;5;241m-\u001b[39m\u001b[38;5;241m>\u001b[39m Tensor:\n\u001b[1;32m--> 117\u001b[0m     \u001b[38;5;28;01mreturn\u001b[39;00m \u001b[43mF\u001b[49m\u001b[38;5;241;43m.\u001b[39;49m\u001b[43mlinear\u001b[49m\u001b[43m(\u001b[49m\u001b[38;5;28;43minput\u001b[39;49m\u001b[43m,\u001b[49m\u001b[43m \u001b[49m\u001b[38;5;28;43mself\u001b[39;49m\u001b[38;5;241;43m.\u001b[39;49m\u001b[43mweight\u001b[49m\u001b[43m,\u001b[49m\u001b[43m \u001b[49m\u001b[38;5;28;43mself\u001b[39;49m\u001b[38;5;241;43m.\u001b[39;49m\u001b[43mbias\u001b[49m\u001b[43m)\u001b[49m\n",
      "\u001b[1;31mRuntimeError\u001b[0m: mat1 and mat2 shapes cannot be multiplied (1792x28 and 256x64)"
     ]
    }
   ],
   "source": [
    "from VariationalAutoDecoder import main\n",
    "main()"
   ]
  }
 ],
 "metadata": {
  "kernelspec": {
   "display_name": "Python 3 (ipykernel)",
   "language": "python",
   "name": "python3"
  },
  "language_info": {
   "codemirror_mode": {
    "name": "ipython",
    "version": 3
   },
   "file_extension": ".py",
   "mimetype": "text/x-python",
   "name": "python",
   "nbconvert_exporter": "python",
   "pygments_lexer": "ipython3",
   "version": "3.10.14"
  }
 },
 "nbformat": 4,
 "nbformat_minor": 5
}
